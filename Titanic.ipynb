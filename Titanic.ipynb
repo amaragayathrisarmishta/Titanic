{
 "metadata": {
  "name": "",
  "signature": "sha256:7b3e09a89d00fd305e0bb2735204fdaa2d4cae0c37975c9307c4d91c81407124"
 },
 "nbformat": 3,
 "nbformat_minor": 0,
 "worksheets": [
  {
   "cells": [
    {
     "cell_type": "code",
     "collapsed": false,
     "input": [
      "#importing useful libraries\n",
      "import csv\n",
      "from scipy import sparse\n",
      "import numpy as np\n",
      "from sklearn.naive_bayes import BernoulliNB"
     ],
     "language": "python",
     "metadata": {},
     "outputs": [],
     "prompt_number": 120
    },
    {
     "cell_type": "code",
     "collapsed": false,
     "input": [
      "traindata = [] #list to store training data\n",
      "with open('train.csv') as f:\n",
      "    reader = csv.reader(f)\n",
      "    for row in reader:\n",
      "        traindata.append(row)\n",
      "del traindata[0] #deleting 1st row because first row contains attribute names "
     ],
     "language": "python",
     "metadata": {},
     "outputs": [],
     "prompt_number": 121
    },
    {
     "cell_type": "code",
     "collapsed": false,
     "input": [
      "testdata = [] #list to store test data\n",
      "with open('test.csv') as f:\n",
      "    reader = csv.reader(f)\n",
      "    for row in reader:\n",
      "        testdata.append(row)\n",
      "del testdata[0] #deleting 1st row because first row contains attribute names"
     ],
     "language": "python",
     "metadata": {},
     "outputs": [],
     "prompt_number": 122
    },
    {
     "cell_type": "code",
     "collapsed": false,
     "input": [
      "#List's for training data\n",
      "trPclass=[]\n",
      "trage=[]\n",
      "trsiblings=[]\n",
      "trparents=[]\n",
      "trfare=[]\n",
      "trembarkment=[]\n",
      "trlabels=[]\n",
      "\n",
      "#List's for test data\n",
      "tsPclass=[]\n",
      "tsage=[]\n",
      "tssiblings=[]\n",
      "tsparents=[]\n",
      "tsfare=[]\n",
      "tsembarkment=[]\n",
      "\n",
      "#We are using attributes which can be useful in either quantifying or categorising."
     ],
     "language": "python",
     "metadata": {},
     "outputs": [],
     "prompt_number": 123
    },
    {
     "cell_type": "code",
     "collapsed": false,
     "input": [
      "for d in traindata: #getting lists for ready for training data\n",
      "    trPclass.append(int(d[2]))\n",
      "    try: \n",
      "     float(d[5])\n",
      "     k=float(d[5])\n",
      "    except: \n",
      "     k = .0\n",
      "    trage.append(k)\n",
      "    if(d[11] is 'C'):\n",
      "     k=1\n",
      "    elif(d[11] is 'S'):\n",
      "     k=2\n",
      "    elif(d[11] is 'Q'):\n",
      "     k=3\n",
      "    else:\n",
      "     k=0\n",
      "    trsiblings.append(int(d[6]))\n",
      "    trparents.append(int(d[7]))\n",
      "    trfare.append(float(d[9]))\n",
      "    trembarkment.append(k)\n",
      "    trlabels.append(int(d[1]))"
     ],
     "language": "python",
     "metadata": {},
     "outputs": [],
     "prompt_number": 124
    },
    {
     "cell_type": "code",
     "collapsed": false,
     "input": [
      "np.array(trembarkment).shape"
     ],
     "language": "python",
     "metadata": {},
     "outputs": [
      {
       "metadata": {},
       "output_type": "pyout",
       "prompt_number": 125,
       "text": [
        "(891,)"
       ]
      }
     ],
     "prompt_number": 125
    },
    {
     "cell_type": "code",
     "collapsed": false,
     "input": [
      "from scipy import sparse"
     ],
     "language": "python",
     "metadata": {},
     "outputs": [],
     "prompt_number": 126
    },
    {
     "cell_type": "code",
     "collapsed": false,
     "input": [
      "ts_cutoff=891\n",
      "#Sparse martix for Pclass\n",
      "fts1 = sparse.csr_matrix((trPclass[:ts_cutoff], (np.arange(ts_cutoff),np.zeros(ts_cutoff))))"
     ],
     "language": "python",
     "metadata": {},
     "outputs": [],
     "prompt_number": 127
    },
    {
     "cell_type": "code",
     "collapsed": false,
     "input": [
      "#Sparse martix for training age\n",
      "fts2 = sparse.csr_matrix((trage[:ts_cutoff], (np.arange(ts_cutoff),np.zeros(ts_cutoff))))"
     ],
     "language": "python",
     "metadata": {},
     "outputs": [],
     "prompt_number": 128
    },
    {
     "cell_type": "code",
     "collapsed": false,
     "input": [
      "#Sparse matrix for training siblings\n",
      "fts3 = sparse.csr_matrix((trsiblings[:ts_cutoff], (np.arange(ts_cutoff),np.zeros(ts_cutoff))))"
     ],
     "language": "python",
     "metadata": {},
     "outputs": [],
     "prompt_number": 129
    },
    {
     "cell_type": "code",
     "collapsed": false,
     "input": [
      "#Sparse matrix for training parents\n",
      "fts4 = sparse.csr_matrix((trparents[:ts_cutoff], (np.arange(ts_cutoff),np.zeros(ts_cutoff))))"
     ],
     "language": "python",
     "metadata": {},
     "outputs": [],
     "prompt_number": 130
    },
    {
     "cell_type": "code",
     "collapsed": false,
     "input": [
      "#Sparse matrix for training fare\n",
      "fts5 = sparse.csr_matrix((trfare[:ts_cutoff], (np.arange(ts_cutoff),np.zeros(ts_cutoff))))"
     ],
     "language": "python",
     "metadata": {},
     "outputs": [],
     "prompt_number": 131
    },
    {
     "cell_type": "code",
     "collapsed": false,
     "input": [
      "#Sparse matrix for training embarkment\n",
      "fts6 = sparse.csr_matrix((trembarkment[:ts_cutoff], (np.arange(ts_cutoff),np.zeros(ts_cutoff))))"
     ],
     "language": "python",
     "metadata": {},
     "outputs": [],
     "prompt_number": 132
    },
    {
     "cell_type": "code",
     "collapsed": false,
     "input": [
      "X = sparse.hstack((fts1,fts2,fts3,fts4,fts5,fts6), format='csr')"
     ],
     "language": "python",
     "metadata": {},
     "outputs": [],
     "prompt_number": 133
    },
    {
     "cell_type": "code",
     "collapsed": false,
     "input": [
      "y = np.array(trlabels[:ts_cutoff])"
     ],
     "language": "python",
     "metadata": {},
     "outputs": [],
     "prompt_number": 134
    },
    {
     "cell_type": "code",
     "collapsed": false,
     "input": [
      "y.shape"
     ],
     "language": "python",
     "metadata": {},
     "outputs": [
      {
       "metadata": {},
       "output_type": "pyout",
       "prompt_number": 135,
       "text": [
        "(891,)"
       ]
      }
     ],
     "prompt_number": 135
    },
    {
     "cell_type": "code",
     "collapsed": false,
     "input": [
      "clf = BernoulliNB()"
     ],
     "language": "python",
     "metadata": {},
     "outputs": [],
     "prompt_number": 136
    },
    {
     "cell_type": "code",
     "collapsed": false,
     "input": [
      "clf.fit(X,y)"
     ],
     "language": "python",
     "metadata": {},
     "outputs": [
      {
       "metadata": {},
       "output_type": "pyout",
       "prompt_number": 137,
       "text": [
        "BernoulliNB(alpha=1.0, binarize=0.0, class_prior=None, fit_prior=True)"
       ]
      }
     ],
     "prompt_number": 137
    },
    {
     "cell_type": "code",
     "collapsed": false,
     "input": [],
     "language": "python",
     "metadata": {},
     "outputs": [],
     "prompt_number": 137
    }
   ],
   "metadata": {}
  }
 ]
}