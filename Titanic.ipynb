{
 "metadata": {
  "name": "",
  "signature": "sha256:b9578db1ab655e040170326025ca42e20de3d57d48d8cd049e70bbca78e5614f"
 },
 "nbformat": 3,
 "nbformat_minor": 0,
 "worksheets": [
  {
   "cells": [
    {
     "cell_type": "code",
     "collapsed": false,
     "input": [
      "#importing useful libraries\n",
      "import csv\n",
      "from scipy import sparse\n",
      "import numpy as np\n",
      "from sklearn.naive_bayes import BernoulliNB"
     ],
     "language": "python",
     "metadata": {},
     "outputs": [],
     "prompt_number": 1
    },
    {
     "cell_type": "code",
     "collapsed": false,
     "input": [
      "traindata = [] #list to store training data\n",
      "with open('train.csv') as f:\n",
      "    reader = csv.reader(f)\n",
      "    for row in reader:\n",
      "        traindata.append(row)\n",
      "del traindata[0] #deleting 1st row because first row contains attribute names "
     ],
     "language": "python",
     "metadata": {},
     "outputs": [],
     "prompt_number": 2
    },
    {
     "cell_type": "code",
     "collapsed": false,
     "input": [
      "testdata = [] #list to store test data\n",
      "with open('test.csv') as f:\n",
      "    reader = csv.reader(f)\n",
      "    for row in reader:\n",
      "        testdata.append(row)\n",
      "del testdata[0] #deleting 1st row because first row contains attribute names"
     ],
     "language": "python",
     "metadata": {},
     "outputs": [],
     "prompt_number": 3
    },
    {
     "cell_type": "code",
     "collapsed": false,
     "input": [
      "#List's for training data\n",
      "trPclass=[]\n",
      "trage=[]\n",
      "trsiblings=[]\n",
      "trparents=[]\n",
      "trfare=[]\n",
      "trembarkment=[]\n",
      "trlabels=[]\n",
      "\n",
      "#List's for test data\n",
      "tsPclass=[]\n",
      "tsage=[]\n",
      "tssiblings=[]\n",
      "tsparents=[]\n",
      "tsfare=[]\n",
      "tsembarkment=[]\n",
      "\n",
      "#We are using attributes which can be useful in either quantifying or categorising."
     ],
     "language": "python",
     "metadata": {},
     "outputs": [],
     "prompt_number": 4
    },
    {
     "cell_type": "code",
     "collapsed": false,
     "input": [
      "for d in traindata: #getting lists for ready for training data\n",
      "    trPclass.append(int(d[2]))\n",
      "    try: \n",
      "     float(d[5])\n",
      "     k=float(d[5])\n",
      "    except: \n",
      "     k = .0\n",
      "    trage.append(k)\n",
      "    if(d[11] is 'C'):\n",
      "     k=1\n",
      "    elif(d[11] is 'S'):\n",
      "     k=2\n",
      "    elif(d[11] is 'Q'):\n",
      "     k=3\n",
      "    else:\n",
      "     k=0\n",
      "    trsiblings.append(int(d[6]))\n",
      "    trparents.append(int(d[7]))\n",
      "    trfare.append(float(d[9]))\n",
      "    trembarkment.append(k)\n",
      "    trlabels.append(int(d[1]))"
     ],
     "language": "python",
     "metadata": {},
     "outputs": [],
     "prompt_number": 5
    },
    {
     "cell_type": "code",
     "collapsed": false,
     "input": [
      "np.array(trembarkment).shape"
     ],
     "language": "python",
     "metadata": {},
     "outputs": [
      {
       "metadata": {},
       "output_type": "pyout",
       "prompt_number": 6,
       "text": [
        "(891,)"
       ]
      }
     ],
     "prompt_number": 6
    },
    {
     "cell_type": "code",
     "collapsed": false,
     "input": [
      "from scipy import sparse"
     ],
     "language": "python",
     "metadata": {},
     "outputs": [],
     "prompt_number": 7
    },
    {
     "cell_type": "code",
     "collapsed": false,
     "input": [
      "ts_cutoff=755\n",
      "test_size = len(traindata) - ts_cutoff\n",
      "#Sparse martix for Pclass\n",
      "fts1 = sparse.csr_matrix((trPclass[:ts_cutoff], (np.arange(ts_cutoff),np.zeros(ts_cutoff))))\n",
      "test_fts1 = sparse.csr_matrix((trPclass[ts_cutoff:], (np.arange(test_size),np.zeros(test_size))))\n",
      "#print test_size"
     ],
     "language": "python",
     "metadata": {},
     "outputs": [],
     "prompt_number": 8
    },
    {
     "cell_type": "code",
     "collapsed": false,
     "input": [
      "#Sparse martix for training age\n",
      "fts2 = sparse.csr_matrix((trage[:ts_cutoff], (np.arange(ts_cutoff),np.zeros(ts_cutoff))))\n",
      "test_fts2 = sparse.csr_matrix((trage[ts_cutoff:], (np.arange(test_size),np.zeros(test_size))))"
     ],
     "language": "python",
     "metadata": {},
     "outputs": [],
     "prompt_number": 9
    },
    {
     "cell_type": "code",
     "collapsed": false,
     "input": [
      "#Sparse matrix for training siblings\n",
      "fts3 = sparse.csr_matrix((trsiblings[:ts_cutoff], (np.arange(ts_cutoff),np.zeros(ts_cutoff))))\n",
      "test_fts3 = sparse.csr_matrix((trsiblings[ts_cutoff:], (np.arange(test_size),np.zeros(test_size))))"
     ],
     "language": "python",
     "metadata": {},
     "outputs": [],
     "prompt_number": 10
    },
    {
     "cell_type": "code",
     "collapsed": false,
     "input": [
      "#Sparse matrix for training parents\n",
      "fts4 = sparse.csr_matrix((trparents[:ts_cutoff], (np.arange(ts_cutoff),np.zeros(ts_cutoff))))\n",
      "test_fts4 = sparse.csr_matrix((trparents[ts_cutoff:], (np.arange(test_size),np.zeros(test_size))))"
     ],
     "language": "python",
     "metadata": {},
     "outputs": [],
     "prompt_number": 11
    },
    {
     "cell_type": "code",
     "collapsed": false,
     "input": [
      "#Sparse matrix for training fare\n",
      "fts5 = sparse.csr_matrix((trfare[:ts_cutoff], (np.arange(ts_cutoff),np.zeros(ts_cutoff))))\n",
      "test_fts5 = sparse.csr_matrix((trfare[ts_cutoff:], (np.arange(test_size),np.zeros(test_size))))"
     ],
     "language": "python",
     "metadata": {},
     "outputs": [],
     "prompt_number": 12
    },
    {
     "cell_type": "code",
     "collapsed": false,
     "input": [
      "#Sparse matrix for training embarkment\n",
      "fts6 = sparse.csr_matrix((trembarkment[:ts_cutoff], (np.arange(ts_cutoff),np.zeros(ts_cutoff))))\n",
      "test_fts6 = sparse.csr_matrix((trembarkment[ts_cutoff:], (np.arange(test_size),np.zeros(test_size))))"
     ],
     "language": "python",
     "metadata": {},
     "outputs": [],
     "prompt_number": 13
    },
    {
     "cell_type": "code",
     "collapsed": false,
     "input": [
      "X = sparse.hstack((fts1,fts2,fts3,fts4,fts5,fts6), format='csr')\n",
      "test_X = sparse.hstack((test_fts1,test_fts2,test_fts3,test_fts4,test_fts5,test_fts6), format='csr')"
     ],
     "language": "python",
     "metadata": {},
     "outputs": [],
     "prompt_number": 14
    },
    {
     "cell_type": "code",
     "collapsed": false,
     "input": [
      "y = np.array(trlabels[:ts_cutoff])\n",
      "test_y = np.array(trlabels[ts_cutoff:])"
     ],
     "language": "python",
     "metadata": {},
     "outputs": [],
     "prompt_number": 15
    },
    {
     "cell_type": "code",
     "collapsed": false,
     "input": [
      "print y.shape\n",
      "print test_y.shape"
     ],
     "language": "python",
     "metadata": {},
     "outputs": [
      {
       "output_type": "stream",
       "stream": "stdout",
       "text": [
        "(755,)\n",
        "(136,)\n"
       ]
      }
     ],
     "prompt_number": 16
    },
    {
     "cell_type": "code",
     "collapsed": false,
     "input": [
      "clf = BernoulliNB()"
     ],
     "language": "python",
     "metadata": {},
     "outputs": [],
     "prompt_number": 17
    },
    {
     "cell_type": "code",
     "collapsed": false,
     "input": [
      "clf.fit(X,y)"
     ],
     "language": "python",
     "metadata": {},
     "outputs": [
      {
       "metadata": {},
       "output_type": "pyout",
       "prompt_number": 18,
       "text": [
        "BernoulliNB(alpha=1.0, binarize=0.0, class_prior=None, fit_prior=True)"
       ]
      }
     ],
     "prompt_number": 18
    },
    {
     "cell_type": "code",
     "collapsed": false,
     "input": [
      "y_pred = clf.predict(test_X)"
     ],
     "language": "python",
     "metadata": {},
     "outputs": [],
     "prompt_number": 19
    },
    {
     "cell_type": "code",
     "collapsed": false,
     "input": [
      "print \"accuracy of prediction by using naive bayes algorithm : \"  \n",
      "np.mean(test_y == y_pred)*100"
     ],
     "language": "python",
     "metadata": {},
     "outputs": [
      {
       "output_type": "stream",
       "stream": "stdout",
       "text": [
        "accuracy of prediction by using naive bayes algorithm : \n"
       ]
      },
      {
       "metadata": {},
       "output_type": "pyout",
       "prompt_number": 20,
       "text": [
        "68.382352941176478"
       ]
      }
     ],
     "prompt_number": 20
    },
    {
     "cell_type": "code",
     "collapsed": false,
     "input": [
      "from sklearn.linear_model import LogisticRegression\n",
      "lrclf = LogisticRegression()\n",
      "lrclf.fit(X,y)"
     ],
     "language": "python",
     "metadata": {},
     "outputs": [
      {
       "metadata": {},
       "output_type": "pyout",
       "prompt_number": 21,
       "text": [
        "LogisticRegression(C=1.0, class_weight=None, dual=False, fit_intercept=True,\n",
        "          intercept_scaling=1, penalty='l2', random_state=None, tol=0.0001)"
       ]
      }
     ],
     "prompt_number": 21
    },
    {
     "cell_type": "code",
     "collapsed": false,
     "input": [
      "y_pred_lr = lrclf.predict(test_X)"
     ],
     "language": "python",
     "metadata": {},
     "outputs": [],
     "prompt_number": 22
    },
    {
     "cell_type": "code",
     "collapsed": false,
     "input": [
      "np.mean(test_y == y_pred_lr)"
     ],
     "language": "python",
     "metadata": {},
     "outputs": [
      {
       "metadata": {},
       "output_type": "pyout",
       "prompt_number": 23,
       "text": [
        "0.75735294117647056"
       ]
      }
     ],
     "prompt_number": 23
    },
    {
     "cell_type": "code",
     "collapsed": false,
     "input": [
      "from sklearn import tree\n",
      "treeclf = tree.DecisionTreeClassifier()\n",
      "treeclf.fit(X.toarray(),y)"
     ],
     "language": "python",
     "metadata": {},
     "outputs": [
      {
       "metadata": {},
       "output_type": "pyout",
       "prompt_number": 24,
       "text": [
        "DecisionTreeClassifier(compute_importances=None, criterion='gini',\n",
        "            max_depth=None, max_features=None, max_leaf_nodes=None,\n",
        "            min_density=None, min_samples_leaf=1, min_samples_split=2,\n",
        "            random_state=None, splitter='best')"
       ]
      }
     ],
     "prompt_number": 24
    },
    {
     "cell_type": "code",
     "collapsed": false,
     "input": [
      "y_pred_tree = treeclf.predict(test_X.toarray())"
     ],
     "language": "python",
     "metadata": {},
     "outputs": [],
     "prompt_number": 25
    },
    {
     "cell_type": "code",
     "collapsed": false,
     "input": [
      "np.mean(test_y == y_pred_tree)"
     ],
     "language": "python",
     "metadata": {},
     "outputs": [
      {
       "metadata": {},
       "output_type": "pyout",
       "prompt_number": 26,
       "text": [
        "0.69117647058823528"
       ]
      }
     ],
     "prompt_number": 26
    },
    {
     "cell_type": "code",
     "collapsed": false,
     "input": [
      "from sklearn import svm\n",
      "from sklearn.feature_selection import SelectKBest\n",
      "from sklearn.feature_selection import f_regression\n",
      "from sklearn.pipeline import Pipeline\n",
      "best_filter = SelectKBest(f_regression, k=3)\n",
      "clf1 = svm.SVC(kernel='linear')\n",
      "clf = Pipeline([\n",
      "  ('feature_selection', best_filter),\n",
      "  ('svc', clf1)\n",
      "])\n",
      "clf.fit(X.toarray(), y)"
     ],
     "language": "python",
     "metadata": {},
     "outputs": [
      {
       "metadata": {},
       "output_type": "pyout",
       "prompt_number": 27,
       "text": [
        "Pipeline(steps=[('feature_selection', SelectKBest(k=3, score_func=<function f_regression at 0x106e7a6e0>)), ('svc', SVC(C=1.0, cache_size=200, class_weight=None, coef0=0.0, degree=3, gamma=0.0,\n",
        "  kernel='linear', max_iter=-1, probability=False, random_state=None,\n",
        "  shrinking=True, tol=0.001, verbose=False))])"
       ]
      }
     ],
     "prompt_number": 27
    },
    {
     "cell_type": "code",
     "collapsed": false,
     "input": [
      "y_pred_pipline = clf.predict(test_X.toarray())"
     ],
     "language": "python",
     "metadata": {},
     "outputs": [],
     "prompt_number": 28
    },
    {
     "cell_type": "code",
     "collapsed": false,
     "input": [
      "np.mean(test_y == y_pred_tree)"
     ],
     "language": "python",
     "metadata": {},
     "outputs": [
      {
       "metadata": {},
       "output_type": "pyout",
       "prompt_number": 29,
       "text": [
        "0.69117647058823528"
       ]
      }
     ],
     "prompt_number": 29
    },
    {
     "cell_type": "code",
     "collapsed": false,
     "input": [],
     "language": "python",
     "metadata": {},
     "outputs": [],
     "prompt_number": 29
    }
   ],
   "metadata": {}
  }
 ]
}