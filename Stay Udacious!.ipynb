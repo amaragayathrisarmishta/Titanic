{
 "metadata": {
  "name": "",
  "signature": "sha256:f7b43d46ed9e98c22d88e45cccb270f2e48dae86ca3678b61c093001b28721ee"
 },
 "nbformat": 3,
 "nbformat_minor": 0,
 "worksheets": [
  {
   "cells": [
    {
     "cell_type": "code",
     "collapsed": false,
     "input": [
      "import csv\n",
      "file=open('./youtube-video-ts.csv')\n",
      "reader=csv.reader(file)\n",
      "total_set=[]\n",
      "target=[]\n",
      "\n",
      "for line in reader:\n",
      "    #total_set.append(line[2]+' '+line[5]+' '+line[6]+' '+line[9]+' '+line[10]+' '+line[11])\n",
      "    total_set.append(line[2]+' '+line[6])\n",
      "    target.append(line[13])\n",
      "    \n",
      "print total_set[:3]\n",
      "print target[:3]"
     ],
     "language": "python",
     "metadata": {},
     "outputs": [
      {
       "output_type": "stream",
       "stream": "stdout",
       "text": [
        "['When do I need to get Prior Approval When do I need to get Prior Approval Subscribe! http://www.youtube.com/subscription_center?add_user=videojugdiygardening Check Out Our Channel Page: ...', 'No arrests for Facebook posts without prior approval  Supreme Court  -TV5 Please Subscribe to Facebook :http://www.facebook.com/tv5newschannel Website : http://www.tv5news.in Youtube ...', 'What is Prior Approval What is Prior Approval Subscribe! http://www.youtube.com/subscription_center?add_user=videojugdiygardening Check Out Our Channel Page: ...']\n",
        "['Good', 'Bad', 'Good']\n"
       ]
      }
     ],
     "prompt_number": 2
    },
    {
     "cell_type": "code",
     "collapsed": false,
     "input": [
      "train_set=total_set[:1800]\n",
      "test_set=total_set[1800:]\n",
      "\n",
      "train_target=target[:1800]\n",
      "test_target=target[1800:]\n"
     ],
     "language": "python",
     "metadata": {},
     "outputs": [],
     "prompt_number": 3
    },
    {
     "cell_type": "code",
     "collapsed": false,
     "input": [
      "#Making a new list from existing list\n",
      "\n",
      "list=['a','b','c']\n",
      "new_list=list[1:]\n",
      "new_list"
     ],
     "language": "python",
     "metadata": {},
     "outputs": [
      {
       "metadata": {},
       "output_type": "pyout",
       "prompt_number": 4,
       "text": [
        "['b', 'c']"
       ]
      }
     ],
     "prompt_number": 4
    },
    {
     "cell_type": "code",
     "collapsed": false,
     "input": [
      "from sklearn.feature_extraction.text import CountVectorizer\n",
      "count_vect=CountVectorizer()"
     ],
     "language": "python",
     "metadata": {},
     "outputs": [],
     "prompt_number": 5
    },
    {
     "cell_type": "code",
     "collapsed": false,
     "input": [
      "count_matrix=count_vect.fit_transform(train_set)"
     ],
     "language": "python",
     "metadata": {},
     "outputs": [],
     "prompt_number": 6
    },
    {
     "cell_type": "code",
     "collapsed": false,
     "input": [
      "count_matrix.shape"
     ],
     "language": "python",
     "metadata": {},
     "outputs": [
      {
       "metadata": {},
       "output_type": "pyout",
       "prompt_number": 7,
       "text": [
        "(1800, 10244)"
       ]
      }
     ],
     "prompt_number": 7
    },
    {
     "cell_type": "code",
     "collapsed": false,
     "input": [
      "new_count_matrix=count_vect.transform(test_set)"
     ],
     "language": "python",
     "metadata": {},
     "outputs": [],
     "prompt_number": 8
    },
    {
     "cell_type": "code",
     "collapsed": false,
     "input": [
      "new_count_matrix.shape"
     ],
     "language": "python",
     "metadata": {},
     "outputs": [
      {
       "metadata": {},
       "output_type": "pyout",
       "prompt_number": 9,
       "text": [
        "(251, 10244)"
       ]
      }
     ],
     "prompt_number": 9
    },
    {
     "cell_type": "code",
     "collapsed": false,
     "input": [
      "from sklearn.feature_extraction.text import TfidfTransformer\n",
      "tfidf_transformer=TfidfTransformer()"
     ],
     "language": "python",
     "metadata": {},
     "outputs": [],
     "prompt_number": 10
    },
    {
     "cell_type": "code",
     "collapsed": false,
     "input": [
      "tfidf_matrix=tfidf_transformer.fit_transform(count_matrix)"
     ],
     "language": "python",
     "metadata": {},
     "outputs": [],
     "prompt_number": 11
    },
    {
     "cell_type": "code",
     "collapsed": false,
     "input": [
      "tfidf_matrix.shape"
     ],
     "language": "python",
     "metadata": {},
     "outputs": [
      {
       "metadata": {},
       "output_type": "pyout",
       "prompt_number": 12,
       "text": [
        "(1800, 10244)"
       ]
      }
     ],
     "prompt_number": 12
    },
    {
     "cell_type": "code",
     "collapsed": false,
     "input": [
      "print tfidf_matrix[:1]"
     ],
     "language": "python",
     "metadata": {},
     "outputs": [
      {
       "output_type": "stream",
       "stream": "stdout",
       "text": [
        "  (0, 6649)\t0.175475000891\n",
        "  (0, 1905)\t0.134474794166\n",
        "  (0, 6585)\t0.131967846909\n",
        "  (0, 6587)\t0.11534778463\n",
        "  (0, 1934)\t0.138974412065\n",
        "  (0, 9731)\t0.224267989629\n",
        "  (0, 552)\t0.171680456362\n",
        "  (0, 8785)\t0.171680456362\n",
        "  (0, 2155)\t0.0766223414856\n",
        "  (0, 10200)\t0.116193889455\n",
        "  (0, 10138)\t0.0848568078953\n",
        "  (0, 4520)\t0.0727685622121\n",
        "  (0, 8780)\t0.109774060018\n",
        "  (0, 911)\t0.431092786187\n",
        "  (0, 7118)\t0.431092786187\n",
        "  (0, 3958)\t0.26111501887\n",
        "  (0, 9227)\t0.113588579597\n",
        "  (0, 6240)\t0.339895193642\n",
        "  (0, 2881)\t0.303143011766\n",
        "  (0, 9978)\t0.296205902937\n"
       ]
      }
     ],
     "prompt_number": 13
    },
    {
     "cell_type": "code",
     "collapsed": false,
     "input": [
      "new_tfidf_matrix=tfidf_transformer.fit_transform(new_count_matrix)\n",
      "new_tfidf_matrix.shape"
     ],
     "language": "python",
     "metadata": {},
     "outputs": [
      {
       "metadata": {},
       "output_type": "pyout",
       "prompt_number": 14,
       "text": [
        "(251, 10244)"
       ]
      }
     ],
     "prompt_number": 14
    },
    {
     "cell_type": "code",
     "collapsed": false,
     "input": [
      "print new_tfidf_matrix[:2]"
     ],
     "language": "python",
     "metadata": {},
     "outputs": [
      {
       "output_type": "stream",
       "stream": "stdout",
       "text": [
        "  (0, 9442)\t0.17791311639\n",
        "  (0, 9227)\t0.0629545791783\n",
        "  (0, 9102)\t0.28091657131\n",
        "  (0, 9011)\t0.285838927249\n",
        "  (0, 9010)\t0.17791311639\n",
        "  (0, 8631)\t0.15393552654\n",
        "  (0, 8609)\t0.375729430639\n",
        "  (0, 8599)\t0.15393552654\n",
        "  (0, 7997)\t0.17791311639\n",
        "  (0, 6449)\t0.269053985892\n",
        "  (0, 6042)\t0.16388712547\n",
        "  (0, 5240)\t0.375729430639\n",
        "  (0, 4844)\t0.0926826428205\n",
        "  (0, 4659)\t0.282383263625\n",
        "  (0, 3467)\t0.187864715319\n",
        "  (0, 3105)\t0.340388113139\n",
        "  (0, 3019)\t0.17791311639\n",
        "  (0, 800)\t0.070986694076\n",
        "  (0, 606)\t0.187864715319\n",
        "  (1, 9011)\t0.295282902955\n",
        "  (1, 8599)\t0.318042959244\n",
        "  (1, 7995)\t0.278046923434\n",
        "  (1, 6723)\t0.367582554181\n",
        "  (1, 4909)\t0.417122149118\n",
        "  (1, 4659)\t0.145856532963\n",
        "  (1, 4327)\t0.417122149118\n",
        "  (1, 2044)\t0.417122149118\n",
        "  (1, 1696)\t0.236606989467\n"
       ]
      }
     ],
     "prompt_number": 15
    },
    {
     "cell_type": "code",
     "collapsed": false,
     "input": [
      "target_codes=[0 if t=='Bad' else 1 for t in target]"
     ],
     "language": "python",
     "metadata": {},
     "outputs": [],
     "prompt_number": 16
    },
    {
     "cell_type": "code",
     "collapsed": false,
     "input": [
      "len(target_codes)"
     ],
     "language": "python",
     "metadata": {},
     "outputs": [
      {
       "metadata": {},
       "output_type": "pyout",
       "prompt_number": 17,
       "text": [
        "2051"
       ]
      }
     ],
     "prompt_number": 17
    },
    {
     "cell_type": "code",
     "collapsed": false,
     "input": [
      "train_target_codes=target_codes[:1800]\n",
      "test_target_codes=target_codes[1800:]"
     ],
     "language": "python",
     "metadata": {},
     "outputs": [],
     "prompt_number": 18
    },
    {
     "cell_type": "code",
     "collapsed": false,
     "input": [
      "from sklearn.naive_bayes import MultinomialNB\n",
      "clf=MultinomialNB().fit(tfidf_matrix,train_target_codes)"
     ],
     "language": "python",
     "metadata": {},
     "outputs": [],
     "prompt_number": 19
    },
    {
     "cell_type": "heading",
     "level": 4,
     "metadata": {},
     "source": [
      "Bernoulli Naive Bayes algorithm is even more better for doccuments with less text since Multinomial NB works \n",
      "taking the word occurence as the basis!"
     ]
    },
    {
     "cell_type": "code",
     "collapsed": false,
     "input": [
      "from sklearn.naive_bayes import BernoulliNB"
     ],
     "language": "python",
     "metadata": {},
     "outputs": [],
     "prompt_number": 20
    },
    {
     "cell_type": "code",
     "collapsed": false,
     "input": [
      "bin_vectorizer = CountVectorizer(binary=True)\n",
      "bernoulli_tr_set = bin_vectorizer.fit_transform(train_set)"
     ],
     "language": "python",
     "metadata": {},
     "outputs": [],
     "prompt_number": 21
    },
    {
     "cell_type": "code",
     "collapsed": false,
     "input": [
      "bernoulli_test_set = bin_vectorizer.transform(test_set)"
     ],
     "language": "python",
     "metadata": {},
     "outputs": [],
     "prompt_number": 22
    },
    {
     "cell_type": "code",
     "collapsed": false,
     "input": [
      "clf = BernoulliNB().fit(bernoulli_tr_set, train_target_codes)"
     ],
     "language": "python",
     "metadata": {},
     "outputs": [],
     "prompt_number": 23
    },
    {
     "cell_type": "code",
     "collapsed": false,
     "input": [
      "b_pred = clf.predict(bernoulli_test_set)"
     ],
     "language": "python",
     "metadata": {},
     "outputs": [],
     "prompt_number": 24
    },
    {
     "cell_type": "code",
     "collapsed": false,
     "input": [
      "np.mean(b_pred == test_target_codes)"
     ],
     "language": "python",
     "metadata": {},
     "outputs": [
      {
       "ename": "NameError",
       "evalue": "name 'np' is not defined",
       "output_type": "pyerr",
       "traceback": [
        "\u001b[1;31m---------------------------------------------------------------------------\u001b[0m\n\u001b[1;31mNameError\u001b[0m                                 Traceback (most recent call last)",
        "\u001b[1;32m<ipython-input-27-fb2468c74c45>\u001b[0m in \u001b[0;36m<module>\u001b[1;34m()\u001b[0m\n\u001b[1;32m----> 1\u001b[1;33m \u001b[0mnp\u001b[0m\u001b[1;33m.\u001b[0m\u001b[0mmean\u001b[0m\u001b[1;33m(\u001b[0m\u001b[0mb_pred\u001b[0m \u001b[1;33m==\u001b[0m \u001b[0mtest_target_codes\u001b[0m\u001b[1;33m)\u001b[0m\u001b[1;33m\u001b[0m\u001b[0m\n\u001b[0m",
        "\u001b[1;31mNameError\u001b[0m: name 'np' is not defined"
       ]
      }
     ],
     "prompt_number": 27
    },
    {
     "cell_type": "code",
     "collapsed": false,
     "input": [
      "predicted=clf.predict(new_tfidf_matrix)"
     ],
     "language": "python",
     "metadata": {},
     "outputs": []
    },
    {
     "cell_type": "code",
     "collapsed": false,
     "input": [
      "predicted"
     ],
     "language": "python",
     "metadata": {},
     "outputs": []
    },
    {
     "cell_type": "code",
     "collapsed": false,
     "input": [
      "predicted_array=['Bad' if t==0 else 'Good' for t in predicted]\n",
      "predicted_array"
     ],
     "language": "python",
     "metadata": {},
     "outputs": []
    },
    {
     "cell_type": "code",
     "collapsed": false,
     "input": [
      "#test_target_codes"
     ],
     "language": "python",
     "metadata": {},
     "outputs": []
    },
    {
     "cell_type": "code",
     "collapsed": false,
     "input": [
      "import numpy as np\n",
      "np.mean(predicted==test_target_codes)"
     ],
     "language": "python",
     "metadata": {},
     "outputs": []
    },
    {
     "cell_type": "code",
     "collapsed": false,
     "input": [
      "from sklearn.pipeline import Pipeline\n",
      "from sklearn.linear_model import SGDClassifier"
     ],
     "language": "python",
     "metadata": {},
     "outputs": []
    },
    {
     "cell_type": "code",
     "collapsed": false,
     "input": [
      "svm_clf=SGDClassifier().fit(tfidf_matrix,train_target_codes) \n",
      "predicted_svm=svm_clf.predict(new_tfidf_matrix)\n",
      "import numpy as np\n",
      "np.mean(predicted_svm==test_target_codes)"
     ],
     "language": "python",
     "metadata": {},
     "outputs": []
    },
    {
     "cell_type": "code",
     "collapsed": false,
     "input": [
      "import pandas as pd"
     ],
     "language": "python",
     "metadata": {},
     "outputs": []
    },
    {
     "cell_type": "code",
     "collapsed": false,
     "input": [],
     "language": "python",
     "metadata": {},
     "outputs": []
    },
    {
     "cell_type": "code",
     "collapsed": false,
     "input": [],
     "language": "python",
     "metadata": {},
     "outputs": []
    }
   ],
   "metadata": {}
  }
 ]
}